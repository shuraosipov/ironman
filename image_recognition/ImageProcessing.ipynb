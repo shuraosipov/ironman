{
 "cells": [
  {
   "cell_type": "code",
   "execution_count": 3,
   "metadata": {
    "scrolled": true
   },
   "outputs": [],
   "source": [
    "import boto3\n",
    "import json\n",
    "import pandas as pd\n",
    "from pandas.io.json import json_normalize\n",
    "\n",
    "\n",
    "# Here I need to extract text from an receipt image."
   ]
  },
  {
   "cell_type": "code",
   "execution_count": 5,
   "metadata": {},
   "outputs": [],
   "source": [
    "client=boto3.client('rekognition')"
   ]
  },
  {
   "cell_type": "code",
   "execution_count": 6,
   "metadata": {},
   "outputs": [],
   "source": [
    "bucket=\"shuraosipov-content\"\n",
    "image=\"receipt.jpg\""
   ]
  },
  {
   "cell_type": "code",
   "execution_count": 7,
   "metadata": {},
   "outputs": [],
   "source": [
    "response=client.detect_text(Image={'S3Object':{'Bucket':bucket,'Name':image}})"
   ]
  },
  {
   "cell_type": "code",
   "execution_count": 8,
   "metadata": {},
   "outputs": [
    {
     "data": {
      "text/plain": [
       "Index(['DetectedText', 'Type', 'Id', 'Confidence',\n",
       "       'Geometry.BoundingBox.Width', 'Geometry.BoundingBox.Height',\n",
       "       'Geometry.BoundingBox.Left', 'Geometry.BoundingBox.Top',\n",
       "       'Geometry.Polygon', 'ParentId'],\n",
       "      dtype='object')"
      ]
     },
     "execution_count": 8,
     "metadata": {},
     "output_type": "execute_result"
    }
   ],
   "source": [
    "recipe_data = response['TextDetections']\n",
    "df = json_normalize(recipe_data)\n",
    "df.columns"
   ]
  },
  {
   "cell_type": "code",
   "execution_count": 9,
   "metadata": {},
   "outputs": [
    {
     "data": {
      "text/html": [
       "<div>\n",
       "<style scoped>\n",
       "    .dataframe tbody tr th:only-of-type {\n",
       "        vertical-align: middle;\n",
       "    }\n",
       "\n",
       "    .dataframe tbody tr th {\n",
       "        vertical-align: top;\n",
       "    }\n",
       "\n",
       "    .dataframe thead th {\n",
       "        text-align: right;\n",
       "    }\n",
       "</style>\n",
       "<table border=\"1\" class=\"dataframe\">\n",
       "  <thead>\n",
       "    <tr style=\"text-align: right;\">\n",
       "      <th></th>\n",
       "      <th>DetectedText</th>\n",
       "      <th>Type</th>\n",
       "      <th>Id</th>\n",
       "      <th>Confidence</th>\n",
       "      <th>Geometry.BoundingBox.Width</th>\n",
       "      <th>ParentId</th>\n",
       "    </tr>\n",
       "  </thead>\n",
       "  <tbody>\n",
       "    <tr>\n",
       "      <td>0</td>\n",
       "      <td>MARKET</td>\n",
       "      <td>LINE</td>\n",
       "      <td>0</td>\n",
       "      <td>92.021942</td>\n",
       "      <td>0.425150</td>\n",
       "      <td>NaN</td>\n",
       "    </tr>\n",
       "    <tr>\n",
       "      <td>1</td>\n",
       "      <td>BASKET.</td>\n",
       "      <td>LINE</td>\n",
       "      <td>1</td>\n",
       "      <td>99.647774</td>\n",
       "      <td>0.397206</td>\n",
       "      <td>NaN</td>\n",
       "    </tr>\n",
       "    <tr>\n",
       "      <td>2</td>\n",
       "      <td>\"MORE FOR YOUR DOLLAR\"</td>\n",
       "      <td>LINE</td>\n",
       "      <td>2</td>\n",
       "      <td>98.943420</td>\n",
       "      <td>0.439063</td>\n",
       "      <td>NaN</td>\n",
       "    </tr>\n",
       "    <tr>\n",
       "      <td>3</td>\n",
       "      <td>400</td>\n",
       "      <td>LINE</td>\n",
       "      <td>3</td>\n",
       "      <td>96.712563</td>\n",
       "      <td>0.074187</td>\n",
       "      <td>NaN</td>\n",
       "    </tr>\n",
       "    <tr>\n",
       "      <td>4</td>\n",
       "      <td>SOMERVILLE. SOMERVILLE AVE</td>\n",
       "      <td>LINE</td>\n",
       "      <td>4</td>\n",
       "      <td>98.986023</td>\n",
       "      <td>0.401894</td>\n",
       "      <td>NaN</td>\n",
       "    </tr>\n",
       "    <tr>\n",
       "      <td>...</td>\n",
       "      <td>...</td>\n",
       "      <td>...</td>\n",
       "      <td>...</td>\n",
       "      <td>...</td>\n",
       "      <td>...</td>\n",
       "      <td>...</td>\n",
       "    </tr>\n",
       "    <tr>\n",
       "      <td>69</td>\n",
       "      <td>FR.</td>\n",
       "      <td>WORD</td>\n",
       "      <td>69</td>\n",
       "      <td>96.268639</td>\n",
       "      <td>0.065868</td>\n",
       "      <td>21.0</td>\n",
       "    </tr>\n",
       "    <tr>\n",
       "      <td>70</td>\n",
       "      <td>NORWEGIAN</td>\n",
       "      <td>WORD</td>\n",
       "      <td>70</td>\n",
       "      <td>98.762611</td>\n",
       "      <td>0.189621</td>\n",
       "      <td>21.0</td>\n",
       "    </tr>\n",
       "    <tr>\n",
       "      <td>71</td>\n",
       "      <td>SALMON</td>\n",
       "      <td>WORD</td>\n",
       "      <td>71</td>\n",
       "      <td>97.983109</td>\n",
       "      <td>0.131739</td>\n",
       "      <td>21.0</td>\n",
       "    </tr>\n",
       "    <tr>\n",
       "      <td>72</td>\n",
       "      <td>17.98</td>\n",
       "      <td>WORD</td>\n",
       "      <td>72</td>\n",
       "      <td>96.403984</td>\n",
       "      <td>0.117767</td>\n",
       "      <td>22.0</td>\n",
       "    </tr>\n",
       "    <tr>\n",
       "      <td>73</td>\n",
       "      <td>CKD</td>\n",
       "      <td>WORD</td>\n",
       "      <td>73</td>\n",
       "      <td>97.646645</td>\n",
       "      <td>0.065887</td>\n",
       "      <td>23.0</td>\n",
       "    </tr>\n",
       "  </tbody>\n",
       "</table>\n",
       "<p>74 rows × 6 columns</p>\n",
       "</div>"
      ],
      "text/plain": [
       "                  DetectedText  Type  Id  Confidence  \\\n",
       "0                       MARKET  LINE   0   92.021942   \n",
       "1                      BASKET.  LINE   1   99.647774   \n",
       "2       \"MORE FOR YOUR DOLLAR\"  LINE   2   98.943420   \n",
       "3                          400  LINE   3   96.712563   \n",
       "4   SOMERVILLE. SOMERVILLE AVE  LINE   4   98.986023   \n",
       "..                         ...   ...  ..         ...   \n",
       "69                         FR.  WORD  69   96.268639   \n",
       "70                   NORWEGIAN  WORD  70   98.762611   \n",
       "71                      SALMON  WORD  71   97.983109   \n",
       "72                       17.98  WORD  72   96.403984   \n",
       "73                         CKD  WORD  73   97.646645   \n",
       "\n",
       "    Geometry.BoundingBox.Width  ParentId  \n",
       "0                     0.425150       NaN  \n",
       "1                     0.397206       NaN  \n",
       "2                     0.439063       NaN  \n",
       "3                     0.074187       NaN  \n",
       "4                     0.401894       NaN  \n",
       "..                         ...       ...  \n",
       "69                    0.065868      21.0  \n",
       "70                    0.189621      21.0  \n",
       "71                    0.131739      21.0  \n",
       "72                    0.117767      22.0  \n",
       "73                    0.065887      23.0  \n",
       "\n",
       "[74 rows x 6 columns]"
      ]
     },
     "execution_count": 9,
     "metadata": {},
     "output_type": "execute_result"
    }
   ],
   "source": [
    "df.iloc[:, [0,1,2,3,4,9]]"
   ]
  },
  {
   "cell_type": "code",
   "execution_count": null,
   "metadata": {},
   "outputs": [],
   "source": []
  }
 ],
 "metadata": {
  "kernelspec": {
   "display_name": "Python 3",
   "language": "python",
   "name": "python3"
  },
  "language_info": {
   "codemirror_mode": {
    "name": "ipython",
    "version": 3
   },
   "file_extension": ".py",
   "mimetype": "text/x-python",
   "name": "python",
   "nbconvert_exporter": "python",
   "pygments_lexer": "ipython3",
   "version": "3.7.4"
  }
 },
 "nbformat": 4,
 "nbformat_minor": 2
}
